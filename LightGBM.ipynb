{
 "cells": [
  {
   "cell_type": "code",
   "execution_count": 52,
   "id": "27ce17af-f95a-4cbd-9031-ba8523133123",
   "metadata": {},
   "outputs": [],
   "source": [
    "# -------------- Imports und Einstellungen --------------\n",
    "# Imports\n",
    "import pandas as pd\n",
    "import numpy as np\n",
    "from sklearn.model_selection import train_test_split\n",
    "from sklearn.preprocessing import LabelEncoder, StandardScaler\n",
    "from sklearn.neighbors import KNeighborsClassifier\n",
    "from sklearn.metrics import accuracy_score, classification_report\n",
    "from sklearn.ensemble import RandomForestClassifier\n",
    "from sklearn.preprocessing import LabelEncoder\n",
    "import matplotlib.pyplot as plt\n",
    "import seaborn as sns\n",
    "from lifelines import KaplanMeierFitter\n",
    "from sklearn.model_selection import KFold\n",
    "from lightgbm import LGBMRegressor\n",
    "\n",
    "\n"
   ]
  },
  {
   "cell_type": "code",
   "execution_count": 53,
   "id": "923b5583-02f0-436b-805b-fa2c2eab6e08",
   "metadata": {},
   "outputs": [],
   "source": [
    "# -------------- Daten einlesen --------------\n",
    "\n",
    "# Train Daten zum trainieren der ML-Modelle\n",
    "path=\"/datasets/equity-post-HCT-survival-predictions/train.csv\"\n",
    "df_train=pd.read_csv(path)\n",
    "\n",
    "# Spaltenbeschreibungen\n",
    "path_description=\"/datasets/equity-post-HCT-survival-predictions/data_dictionary.csv\"\n",
    "df_description=pd.read_csv(path_description)\n",
    "\n",
    "# Test Daten für die Competition\n",
    "path_test=\"/datasets/equity-post-HCT-survival-predictions/test.csv\"\n",
    "df_test=pd.read_csv(path_test)\n",
    "\n",
    "# # -------------- ID-Werte aus df_test speichern --------------\n",
    "\n",
    "ids = df_test['ID']"
   ]
  },
  {
   "cell_type": "code",
   "execution_count": 54,
   "id": "aac300f3-1e22-4374-a47e-948d2750d125",
   "metadata": {},
   "outputs": [],
   "source": [
    "# Hintergrund KaplanMeierFitter: In Überlebensanalysen sind die Daten oft zensiert, das heißt, \n",
    "#für einige Personen wissen wir nicht, ob das Ereignis jemals eintreten wird \n",
    "#(z. B. weil sie die Studie verlassen haben oder das Ereignis nach Ende der Beobachtungszeit nicht eingetreten ist).\n",
    "#Der Kaplan-Meier-Schätzer wird verwendet, um die Überlebenswahrscheinlichkeit über die Zeit hinweg zu berechnen.\n",
    "#Er gibt an, wie wahrscheinlich es ist, dass das untersuchte Ereignis nach einer bestimmten Zeit noch nicht eingetreten ist.\n",
    "\n",
    "#In unserem Fall verwenden wir den Kaplan-Meier-Schätzer, um für jede Beobachtung im Datensatz eine \n",
    "#individuelle Überlebenswahrscheinlichkeit zu berechnen. Diese Werte können \n",
    "#anschließend als Zielvariable für ein Machine-Learning-Modell genutzt werden\n",
    "\n",
    "\n",
    "def transform_survival_probability(df, time_col='efs_time', event_col='efs'):\n",
    "    kmf = KaplanMeierFitter()\n",
    "    kmf.fit(df[time_col], df[event_col])\n",
    "    y = kmf.survival_function_at_times(df[time_col]).values\n",
    "    return y\n",
    "df_train[\"y\"] = transform_survival_probability(df_train, time_col='efs_time', event_col='efs')"
   ]
  },
  {
   "cell_type": "code",
   "execution_count": 55,
   "id": "7b5a7e17-60b5-4eb1-b88c-79baa4a3a4b3",
   "metadata": {},
   "outputs": [
    {
     "name": "stdout",
     "output_type": "stream",
     "text": [
      "There are 57 FEATURES: ['dri_score', 'psych_disturb', 'cyto_score', 'diabetes', 'hla_match_c_high', 'hla_high_res_8', 'tbi_status', 'arrhythmia', 'hla_low_res_6', 'graft_type', 'vent_hist', 'renal_issue', 'pulm_severe', 'prim_disease_hct', 'hla_high_res_6', 'cmv_status', 'hla_high_res_10', 'hla_match_dqb1_high', 'tce_imm_match', 'hla_nmdp_6', 'hla_match_c_low', 'rituximab', 'hla_match_drb1_low', 'hla_match_dqb1_low', 'prod_type', 'cyto_score_detail', 'conditioning_intensity', 'ethnicity', 'year_hct', 'obesity', 'mrd_hct', 'in_vivo_tcd', 'tce_match', 'hla_match_a_high', 'hepatic_severe', 'donor_age', 'prior_tumor', 'hla_match_b_low', 'peptic_ulcer', 'age_at_hct', 'hla_match_a_low', 'gvhd_proph', 'rheum_issue', 'sex_match', 'hla_match_b_high', 'race_group', 'comorbidity_score', 'karnofsky_score', 'hepatic_mild', 'tce_div_match', 'donor_related', 'melphalan_dose', 'hla_low_res_8', 'cardiac', 'hla_match_drb1_high', 'pulm_moderate', 'hla_low_res_10']\n"
     ]
    }
   ],
   "source": [
    "#Data Cleaning\n",
    "RMV = [\"ID\",\"efs\",\"efs_time\",\"y\"]\n",
    "FEATURES = [c for c in df_train.columns if not c in RMV]\n",
    "print(f\"There are {len(FEATURES)} FEATURES: {FEATURES}\")\n"
   ]
  },
  {
   "cell_type": "code",
   "execution_count": 56,
   "id": "1c1894f1-b0b2-476e-8930-01e1eb4bc6e8",
   "metadata": {},
   "outputs": [
    {
     "name": "stdout",
     "output_type": "stream",
     "text": [
      "In these features, there are 35 CATEGORICAL FEATURES: ['dri_score', 'psych_disturb', 'cyto_score', 'diabetes', 'tbi_status', 'arrhythmia', 'graft_type', 'vent_hist', 'renal_issue', 'pulm_severe', 'prim_disease_hct', 'cmv_status', 'tce_imm_match', 'rituximab', 'prod_type', 'cyto_score_detail', 'conditioning_intensity', 'ethnicity', 'obesity', 'mrd_hct', 'in_vivo_tcd', 'tce_match', 'hepatic_severe', 'prior_tumor', 'peptic_ulcer', 'gvhd_proph', 'rheum_issue', 'sex_match', 'race_group', 'hepatic_mild', 'tce_div_match', 'donor_related', 'melphalan_dose', 'cardiac', 'pulm_moderate']\n"
     ]
    }
   ],
   "source": [
    "CATS = []\n",
    "for c in FEATURES:\n",
    "    if df_train[c].dtype==\"object\":\n",
    "        CATS.append(c)\n",
    "        df_train[c] = df_train[c].fillna(\"NAN\")\n",
    "        df_test[c] = df_test[c].fillna(\"NAN\")\n",
    "print(f\"In these features, there are {len(CATS)} CATEGORICAL FEATURES: {CATS}\")"
   ]
  },
  {
   "cell_type": "code",
   "execution_count": 57,
   "id": "e3844a71-4e2b-449c-95b6-44d3e059e520",
   "metadata": {},
   "outputs": [
    {
     "name": "stdout",
     "output_type": "stream",
     "text": [
      "We LABEL ENCODE the CATEGORICAL FEATURES: dri_score, psych_disturb, cyto_score, diabetes, tbi_status, arrhythmia, graft_type, vent_hist, renal_issue, pulm_severe, prim_disease_hct, cmv_status, tce_imm_match, rituximab, prod_type, cyto_score_detail, conditioning_intensity, ethnicity, obesity, mrd_hct, in_vivo_tcd, tce_match, hepatic_severe, prior_tumor, peptic_ulcer, gvhd_proph, rheum_issue, sex_match, race_group, hepatic_mild, tce_div_match, donor_related, melphalan_dose, cardiac, pulm_moderate, "
     ]
    }
   ],
   "source": [
    "combined = pd.concat([df_train,df_test],axis=0,ignore_index=True)\n",
    "#print(\"Combined data shape:\", combined.shape )\n",
    "\n",
    "# LABEL ENCODE CATEGORICAL FEATURES\n",
    "print(\"We LABEL ENCODE the CATEGORICAL FEATURES: \",end=\"\")\n",
    "for c in FEATURES:\n",
    "\n",
    "    # LABEL ENCODE CATEGORICAL AND CONVERT TO INT32 CATEGORY\n",
    "    if c in CATS:\n",
    "        print(f\"{c}, \",end=\"\")\n",
    "        combined[c],_ = combined[c].factorize()\n",
    "        combined[c] -= combined[c].min()\n",
    "        combined[c] = combined[c].astype(\"int32\")\n",
    "        combined[c] = combined[c].astype(\"category\")\n",
    "\n",
    "        \n",
    "     # REDUCE PRECISION OF NUMERICAL TO 32BIT TO SAVE MEMORY\n",
    "    else:\n",
    "        if combined[c].dtype==\"float64\":\n",
    "            combined[c] = combined[c].astype(\"float32\")\n",
    "        if combined[c].dtype==\"int64\":\n",
    "            combined[c] = combined[c].astype(\"int32\")\n",
    "    \n",
    "df_train = combined.iloc[:len(df_train)].copy()\n",
    "df_test = combined.iloc[len(df_train):].reset_index(drop=True).copy()"
   ]
  },
  {
   "cell_type": "code",
   "execution_count": 61,
   "id": "64995fcb-d889-4d86-ac80-b24bea66d8af",
   "metadata": {},
   "outputs": [
    {
     "name": "stdout",
     "output_type": "stream",
     "text": [
      "#########################\n",
      "### Fold 1\n",
      "#########################\n",
      "#########################\n",
      "### Fold 2\n",
      "#########################\n",
      "[0.4907011  0.64680948 0.43478722]\n"
     ]
    }
   ],
   "source": [
    "import pandas as pd\n",
    "import numpy as np\n",
    "from lightgbm import LGBMRegressor\n",
    "from sklearn.model_selection import KFold\n",
    "from scipy.stats import rankdata\n",
    "\n",
    "# FOLD SETTINGS\n",
    "FOLDS = 2\n",
    "kf = KFold(n_splits=FOLDS, shuffle=True, random_state=42)\n",
    "\n",
    "# Initialize arrays to store out-of-fold and test predictions\n",
    "oof_lgb = np.zeros(len(df_train))\n",
    "pred_lgb = np.zeros(len(df_test))\n",
    "\n",
    "# Loop through each fold\n",
    "for i, (train_index, test_index) in enumerate(kf.split(df_train)):\n",
    "\n",
    "    print(\"#\" * 25)\n",
    "    print(f\"### Fold {i+1}\")\n",
    "    print(\"#\" * 25)\n",
    "\n",
    "    # Train / Validation Split\n",
    "    x_train = df_train.loc[train_index, FEATURES].copy()\n",
    "    y_train = df_train.loc[train_index, 'y']    \n",
    "    x_valid = df_train.loc[test_index, FEATURES].copy()\n",
    "    y_valid = df_train.loc[test_index, 'y']\n",
    "    x_test = df_test[FEATURES].copy()\n",
    "\n",
    "    # Initialize the LGBMRegressor model\n",
    "    model_lgb = LGBMRegressor(\n",
    "        max_depth=3, \n",
    "        colsample_bytree=0.4,  \n",
    "        n_estimators=2500, \n",
    "        learning_rate=0.02, \n",
    "        objective=\"regression\",  # Regression problem\n",
    "        verbose=-1,\n",
    "    )\n",
    "\n",
    "    # Fit the model without early_stopping_rounds\n",
    "    model_lgb.fit(\n",
    "        x_train, y_train,\n",
    "        eval_set=[(x_valid, y_valid)],\n",
    "    )\n",
    "\n",
    "    # INFER OOF predictions (Out of Fold)\n",
    "    oof_lgb[test_index] = model_lgb.predict(x_valid)\n",
    "\n",
    "    # INFER TEST predictions\n",
    "    pred_lgb += model_lgb.predict(x_test)\n",
    "\n",
    "# Compute average test predictions for submission\n",
    "pred_lgb /= FOLDS\n",
    "print(pred_lgb)\n",
    "# Rank the predictions for the final output (use as risk score)\n",
    "\n"
   ]
  },
  {
   "cell_type": "code",
   "execution_count": 62,
   "id": "2db6b9e2-c5af-4829-823c-c66273c8e560",
   "metadata": {},
   "outputs": [
    {
     "name": "stdout",
     "output_type": "stream",
     "text": [
      "[0.4907011  0.64680948 0.43478722]\n"
     ]
    }
   ],
   "source": [
    "print(pred_lgb)\n",
    "y_pred = pd.DataFrame({\n",
    "    'ID': df_test['ID'],  # Assuming 'ID' is the column that identifies rows\n",
    "    'prediction': pred_lgb  # Rank the predictions for submission\n",
    "})\n",
    "\n",
    "# Save submission\n",
    "y_pred.to_csv('submission.csv', index=False)"
   ]
  },
  {
   "cell_type": "code",
   "execution_count": 63,
   "id": "6a88433a-55bd-4656-ae27-8ed50003b6ba",
   "metadata": {},
   "outputs": [
    {
     "name": "stdout",
     "output_type": "stream",
     "text": [
      "ID,prediction\n",
      "28800,0.4907011043791599\n",
      "28801,0.646809476705795\n",
      "28802,0.4347872177494269\n"
     ]
    }
   ],
   "source": []
  },
  {
   "cell_type": "code",
   "execution_count": null,
   "id": "9b2cd5b1-3a36-4468-a43b-c45581ccedd4",
   "metadata": {},
   "outputs": [],
   "source": []
  }
 ],
 "metadata": {
  "kernelspec": {
   "display_name": "Python (survival-env)",
   "language": "python",
   "name": "survival-env"
  },
  "language_info": {
   "codemirror_mode": {
    "name": "ipython",
    "version": 3
   },
   "file_extension": ".py",
   "mimetype": "text/x-python",
   "name": "python",
   "nbconvert_exporter": "python",
   "pygments_lexer": "ipython3",
   "version": "3.9.21"
  }
 },
 "nbformat": 4,
 "nbformat_minor": 5
}
